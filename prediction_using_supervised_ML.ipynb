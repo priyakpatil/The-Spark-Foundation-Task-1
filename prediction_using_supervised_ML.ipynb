{
 "cells": [
  {
   "cell_type": "markdown",
   "id": "3a6f02a0-f3c6-4868-84f3-d0d7de43e4c6",
   "metadata": {},
   "source": [
    "# The Spark Foundation"
   ]
  },
  {
   "cell_type": "markdown",
   "id": "ceeb44ba-baa1-4c2f-9115-41e939faf996",
   "metadata": {},
   "source": [
    "# Name : Priya Keshav Patil"
   ]
  },
  {
   "cell_type": "markdown",
   "id": "a1db22e9-76a7-41be-9894-48635a4c0851",
   "metadata": {},
   "source": [
    "## Data Science and Business Analytics"
   ]
  },
  {
   "cell_type": "markdown",
   "id": "b3dd2118-3644-4c89-81b0-7c7946442128",
   "metadata": {},
   "source": [
    "### Task 1: Prediction using Supervised ML"
   ]
  },
  {
   "cell_type": "markdown",
   "id": "3edf91c4-c403-4272-b5dc-b1a504f3a01a",
   "metadata": {},
   "source": [
    "#### This Task is to predict the percentage of a student based on the no. of study hours. This is a simple linear regression task as it involves just two variables."
   ]
  },
  {
   "cell_type": "code",
   "execution_count": 14,
   "id": "75421178-a150-4633-8883-7bb18154c72b",
   "metadata": {},
   "outputs": [],
   "source": [
    "#importing the libraries\n",
    "import pandas as pd\n",
    "import numpy as np\n",
    "import matplotlib.pyplot as plt\n",
    "import seaborn as sns"
   ]
  },
  {
   "cell_type": "code",
   "execution_count": 3,
   "id": "f5b072fb-329d-4cf0-9e47-c91344b6bcd4",
   "metadata": {},
   "outputs": [
    {
     "data": {
      "text/html": [
       "<div>\n",
       "<style scoped>\n",
       "    .dataframe tbody tr th:only-of-type {\n",
       "        vertical-align: middle;\n",
       "    }\n",
       "\n",
       "    .dataframe tbody tr th {\n",
       "        vertical-align: top;\n",
       "    }\n",
       "\n",
       "    .dataframe thead th {\n",
       "        text-align: right;\n",
       "    }\n",
       "</style>\n",
       "<table border=\"1\" class=\"dataframe\">\n",
       "  <thead>\n",
       "    <tr style=\"text-align: right;\">\n",
       "      <th></th>\n",
       "      <th>Hours</th>\n",
       "      <th>Scores</th>\n",
       "    </tr>\n",
       "  </thead>\n",
       "  <tbody>\n",
       "    <tr>\n",
       "      <th>0</th>\n",
       "      <td>2.5</td>\n",
       "      <td>21</td>\n",
       "    </tr>\n",
       "    <tr>\n",
       "      <th>1</th>\n",
       "      <td>5.1</td>\n",
       "      <td>47</td>\n",
       "    </tr>\n",
       "    <tr>\n",
       "      <th>2</th>\n",
       "      <td>3.2</td>\n",
       "      <td>27</td>\n",
       "    </tr>\n",
       "    <tr>\n",
       "      <th>3</th>\n",
       "      <td>8.5</td>\n",
       "      <td>75</td>\n",
       "    </tr>\n",
       "    <tr>\n",
       "      <th>4</th>\n",
       "      <td>3.5</td>\n",
       "      <td>30</td>\n",
       "    </tr>\n",
       "    <tr>\n",
       "      <th>5</th>\n",
       "      <td>1.5</td>\n",
       "      <td>20</td>\n",
       "    </tr>\n",
       "    <tr>\n",
       "      <th>6</th>\n",
       "      <td>9.2</td>\n",
       "      <td>88</td>\n",
       "    </tr>\n",
       "    <tr>\n",
       "      <th>7</th>\n",
       "      <td>5.5</td>\n",
       "      <td>60</td>\n",
       "    </tr>\n",
       "    <tr>\n",
       "      <th>8</th>\n",
       "      <td>8.3</td>\n",
       "      <td>81</td>\n",
       "    </tr>\n",
       "    <tr>\n",
       "      <th>9</th>\n",
       "      <td>2.7</td>\n",
       "      <td>25</td>\n",
       "    </tr>\n",
       "    <tr>\n",
       "      <th>10</th>\n",
       "      <td>7.7</td>\n",
       "      <td>85</td>\n",
       "    </tr>\n",
       "    <tr>\n",
       "      <th>11</th>\n",
       "      <td>5.9</td>\n",
       "      <td>62</td>\n",
       "    </tr>\n",
       "    <tr>\n",
       "      <th>12</th>\n",
       "      <td>4.5</td>\n",
       "      <td>41</td>\n",
       "    </tr>\n",
       "    <tr>\n",
       "      <th>13</th>\n",
       "      <td>3.3</td>\n",
       "      <td>42</td>\n",
       "    </tr>\n",
       "    <tr>\n",
       "      <th>14</th>\n",
       "      <td>1.1</td>\n",
       "      <td>17</td>\n",
       "    </tr>\n",
       "    <tr>\n",
       "      <th>15</th>\n",
       "      <td>8.9</td>\n",
       "      <td>95</td>\n",
       "    </tr>\n",
       "    <tr>\n",
       "      <th>16</th>\n",
       "      <td>2.5</td>\n",
       "      <td>30</td>\n",
       "    </tr>\n",
       "    <tr>\n",
       "      <th>17</th>\n",
       "      <td>1.9</td>\n",
       "      <td>24</td>\n",
       "    </tr>\n",
       "    <tr>\n",
       "      <th>18</th>\n",
       "      <td>6.1</td>\n",
       "      <td>67</td>\n",
       "    </tr>\n",
       "    <tr>\n",
       "      <th>19</th>\n",
       "      <td>7.4</td>\n",
       "      <td>69</td>\n",
       "    </tr>\n",
       "    <tr>\n",
       "      <th>20</th>\n",
       "      <td>2.7</td>\n",
       "      <td>30</td>\n",
       "    </tr>\n",
       "    <tr>\n",
       "      <th>21</th>\n",
       "      <td>4.8</td>\n",
       "      <td>54</td>\n",
       "    </tr>\n",
       "    <tr>\n",
       "      <th>22</th>\n",
       "      <td>3.8</td>\n",
       "      <td>35</td>\n",
       "    </tr>\n",
       "    <tr>\n",
       "      <th>23</th>\n",
       "      <td>6.9</td>\n",
       "      <td>76</td>\n",
       "    </tr>\n",
       "    <tr>\n",
       "      <th>24</th>\n",
       "      <td>7.8</td>\n",
       "      <td>86</td>\n",
       "    </tr>\n",
       "  </tbody>\n",
       "</table>\n",
       "</div>"
      ],
      "text/plain": [
       "    Hours  Scores\n",
       "0     2.5      21\n",
       "1     5.1      47\n",
       "2     3.2      27\n",
       "3     8.5      75\n",
       "4     3.5      30\n",
       "5     1.5      20\n",
       "6     9.2      88\n",
       "7     5.5      60\n",
       "8     8.3      81\n",
       "9     2.7      25\n",
       "10    7.7      85\n",
       "11    5.9      62\n",
       "12    4.5      41\n",
       "13    3.3      42\n",
       "14    1.1      17\n",
       "15    8.9      95\n",
       "16    2.5      30\n",
       "17    1.9      24\n",
       "18    6.1      67\n",
       "19    7.4      69\n",
       "20    2.7      30\n",
       "21    4.8      54\n",
       "22    3.8      35\n",
       "23    6.9      76\n",
       "24    7.8      86"
      ]
     },
     "execution_count": 3,
     "metadata": {},
     "output_type": "execute_result"
    }
   ],
   "source": [
    "#read the dataset\n",
    "df=pd.read_csv(\"dataset.csv\")\n",
    "df"
   ]
  },
  {
   "cell_type": "code",
   "execution_count": 4,
   "id": "d4162ce0-e7da-44f3-bea5-a97c4e869b93",
   "metadata": {},
   "outputs": [
    {
     "data": {
      "text/plain": [
       "(25, 2)"
      ]
     },
     "execution_count": 4,
     "metadata": {},
     "output_type": "execute_result"
    }
   ],
   "source": [
    "df.shape"
   ]
  },
  {
   "cell_type": "code",
   "execution_count": 6,
   "id": "f5e880e6-118e-40b9-b9e5-d3c5f319c25f",
   "metadata": {},
   "outputs": [
    {
     "name": "stdout",
     "output_type": "stream",
     "text": [
      "<class 'pandas.core.frame.DataFrame'>\n",
      "RangeIndex: 25 entries, 0 to 24\n",
      "Data columns (total 2 columns):\n",
      " #   Column  Non-Null Count  Dtype  \n",
      "---  ------  --------------  -----  \n",
      " 0   Hours   25 non-null     float64\n",
      " 1   Scores  25 non-null     int64  \n",
      "dtypes: float64(1), int64(1)\n",
      "memory usage: 464.0 bytes\n"
     ]
    }
   ],
   "source": [
    "df.info()"
   ]
  },
  {
   "cell_type": "code",
   "execution_count": 7,
   "id": "1605659b-9059-4244-a4bf-7d6dfbe7f94a",
   "metadata": {},
   "outputs": [
    {
     "data": {
      "text/html": [
       "<div>\n",
       "<style scoped>\n",
       "    .dataframe tbody tr th:only-of-type {\n",
       "        vertical-align: middle;\n",
       "    }\n",
       "\n",
       "    .dataframe tbody tr th {\n",
       "        vertical-align: top;\n",
       "    }\n",
       "\n",
       "    .dataframe thead th {\n",
       "        text-align: right;\n",
       "    }\n",
       "</style>\n",
       "<table border=\"1\" class=\"dataframe\">\n",
       "  <thead>\n",
       "    <tr style=\"text-align: right;\">\n",
       "      <th></th>\n",
       "      <th>Hours</th>\n",
       "      <th>Scores</th>\n",
       "    </tr>\n",
       "  </thead>\n",
       "  <tbody>\n",
       "    <tr>\n",
       "      <th>count</th>\n",
       "      <td>25.000000</td>\n",
       "      <td>25.000000</td>\n",
       "    </tr>\n",
       "    <tr>\n",
       "      <th>mean</th>\n",
       "      <td>5.012000</td>\n",
       "      <td>51.480000</td>\n",
       "    </tr>\n",
       "    <tr>\n",
       "      <th>std</th>\n",
       "      <td>2.525094</td>\n",
       "      <td>25.286887</td>\n",
       "    </tr>\n",
       "    <tr>\n",
       "      <th>min</th>\n",
       "      <td>1.100000</td>\n",
       "      <td>17.000000</td>\n",
       "    </tr>\n",
       "    <tr>\n",
       "      <th>25%</th>\n",
       "      <td>2.700000</td>\n",
       "      <td>30.000000</td>\n",
       "    </tr>\n",
       "    <tr>\n",
       "      <th>50%</th>\n",
       "      <td>4.800000</td>\n",
       "      <td>47.000000</td>\n",
       "    </tr>\n",
       "    <tr>\n",
       "      <th>75%</th>\n",
       "      <td>7.400000</td>\n",
       "      <td>75.000000</td>\n",
       "    </tr>\n",
       "    <tr>\n",
       "      <th>max</th>\n",
       "      <td>9.200000</td>\n",
       "      <td>95.000000</td>\n",
       "    </tr>\n",
       "  </tbody>\n",
       "</table>\n",
       "</div>"
      ],
      "text/plain": [
       "           Hours     Scores\n",
       "count  25.000000  25.000000\n",
       "mean    5.012000  51.480000\n",
       "std     2.525094  25.286887\n",
       "min     1.100000  17.000000\n",
       "25%     2.700000  30.000000\n",
       "50%     4.800000  47.000000\n",
       "75%     7.400000  75.000000\n",
       "max     9.200000  95.000000"
      ]
     },
     "execution_count": 7,
     "metadata": {},
     "output_type": "execute_result"
    }
   ],
   "source": [
    "df.describe()"
   ]
  },
  {
   "cell_type": "markdown",
   "id": "a95239b5-ce02-44b4-a887-b7de530d9e5d",
   "metadata": {},
   "source": [
    "### Exploring the dataset"
   ]
  },
  {
   "cell_type": "code",
   "execution_count": 12,
   "id": "0120a85d-884f-48f3-ad83-3875e9fcc923",
   "metadata": {},
   "outputs": [
    {
     "data": {
      "image/png": "[encoded data removed]",
      "text/plain": [
       "<Figure size 432x288 with 1 Axes>"
      ]
     },
     "metadata": {
      "needs_background": "light"
     },
     "output_type": "display_data"
    }
   ],
   "source": [
    "plt.scatter(df['Hours'],df['Scores'],color=\"red\",marker=\"o\")\n",
    "plt.title(\"Hours Vs Scores\")\n",
    "plt.xlabel(\"Study Hours\")\n",
    "plt.ylabel(\"percentage scored\")\n",
    "plt.show()"
   ]
  },
  {
   "cell_type": "code",
   "execution_count": 13,
   "id": "60bb2d3a-dfc8-4f80-81ea-e04e5968d283",
   "metadata": {},
   "outputs": [
    {
     "data": {
      "text/html": [
       "<div>\n",
       "<style scoped>\n",
       "    .dataframe tbody tr th:only-of-type {\n",
       "        vertical-align: middle;\n",
       "    }\n",
       "\n",
       "    .dataframe tbody tr th {\n",
       "        vertical-align: top;\n",
       "    }\n",
       "\n",
       "    .dataframe thead th {\n",
       "        text-align: right;\n",
       "    }\n",
       "</style>\n",
       "<table border=\"1\" class=\"dataframe\">\n",
       "  <thead>\n",
       "    <tr style=\"text-align: right;\">\n",
       "      <th></th>\n",
       "      <th>Hours</th>\n",
       "      <th>Scores</th>\n",
       "    </tr>\n",
       "  </thead>\n",
       "  <tbody>\n",
       "    <tr>\n",
       "      <th>Hours</th>\n",
       "      <td>1.000000</td>\n",
       "      <td>0.976191</td>\n",
       "    </tr>\n",
       "    <tr>\n",
       "      <th>Scores</th>\n",
       "      <td>0.976191</td>\n",
       "      <td>1.000000</td>\n",
       "    </tr>\n",
       "  </tbody>\n",
       "</table>\n",
       "</div>"
      ],
      "text/plain": [
       "           Hours    Scores\n",
       "Hours   1.000000  0.976191\n",
       "Scores  0.976191  1.000000"
      ]
     },
     "execution_count": 13,
     "metadata": {},
     "output_type": "execute_result"
    }
   ],
   "source": [
    "df.corr()"
   ]
  },
  {
   "cell_type": "code",
   "execution_count": 15,
   "id": "2d9ae8e9-a6d8-4a69-90a3-b5a2ff238467",
   "metadata": {},
   "outputs": [
    {
     "data": {
      "text/plain": [
       "Text(0.5, 1.0, 'plotting the regression line')"
      ]
     },
     "execution_count": 15,
     "metadata": {},
     "output_type": "execute_result"
    },
    {
     "data": {
      "image/png": "[encoded data removed]",
      "text/plain": [
       "<Figure size 360x360 with 1 Axes>"
      ]
     },
     "metadata": {
      "needs_background": "light"
     },
     "output_type": "display_data"
    }
   ],
   "source": [
    "sns.lmplot(x=\"Hours\",y=\"Scores\",data=df)\n",
    "plt.title(\"plotting the regression line\")"
   ]
  },
  {
   "cell_type": "markdown",
   "id": "0a7cc196-b19a-4a94-8609-4b69c9b99387",
   "metadata": {},
   "source": [
    "##### From the graph above, we can say that with the increase of Study Hours(x) there is an increase in the Scores obtained(y)"
   ]
  },
  {
   "cell_type": "markdown",
   "id": "fea6b64b-2bce-458d-bd42-78c583d7b279",
   "metadata": {},
   "source": [
    "### Extracting the independent and dependent variable"
   ]
  },
  {
   "cell_type": "code",
   "execution_count": 18,
   "id": "121c7db6-5575-4cdc-a291-7990ef65eef9",
   "metadata": {},
   "outputs": [
    {
     "data": {
      "text/plain": [
       "(array([[2.5],\n",
       "        [5.1],\n",
       "        [3.2],\n",
       "        [8.5],\n",
       "        [3.5],\n",
       "        [1.5],\n",
       "        [9.2],\n",
       "        [5.5],\n",
       "        [8.3],\n",
       "        [2.7],\n",
       "        [7.7],\n",
       "        [5.9],\n",
       "        [4.5],\n",
       "        [3.3],\n",
       "        [1.1],\n",
       "        [8.9],\n",
       "        [2.5],\n",
       "        [1.9],\n",
       "        [6.1],\n",
       "        [7.4],\n",
       "        [2.7],\n",
       "        [4.8],\n",
       "        [3.8],\n",
       "        [6.9],\n",
       "        [7.8]]),\n",
       " array([21, 47, 27, 75, 30, 20, 88, 60, 81, 25, 85, 62, 41, 42, 17, 95, 30,\n",
       "        24, 67, 69, 30, 54, 35, 76, 86], dtype=int64))"
      ]
     },
     "execution_count": 18,
     "metadata": {},
     "output_type": "execute_result"
    }
   ],
   "source": [
    "x=df.iloc[:, :-1].values\n",
    "y=df.iloc[:, -1].values"
   ]
  },
  {
   "cell_type": "markdown",
   "id": "a9bf593e-dd8c-494a-8d98-a4d355bbfb5f",
   "metadata": {},
   "source": [
    "### Splitting dataset into training and testing set"
   ]
  },
  {
   "cell_type": "code",
   "execution_count": 19,
   "id": "c939df56-4acc-4d64-87a8-09cd1edfca3d",
   "metadata": {},
   "outputs": [],
   "source": [
    "from sklearn.model_selection import train_test_split\n",
    "x_train,x_test,y_train,y_test=train_test_split(x,y,test_size=1/3,random_state=0)"
   ]
  },
  {
   "cell_type": "markdown",
   "id": "62c49b34-e2b6-4bba-967d-f13f9d7d398e",
   "metadata": {},
   "source": [
    "### Training the Simple Linear Regression Model on the Training set"
   ]
  },
  {
   "cell_type": "code",
   "execution_count": 20,
   "id": "fcf39988-d093-484c-99a3-bdeb2a9caf14",
   "metadata": {},
   "outputs": [
    {
     "data": {
      "text/plain": [
       "LinearRegression()"
      ]
     },
     "execution_count": 20,
     "metadata": {},
     "output_type": "execute_result"
    }
   ],
   "source": [
    "from sklearn.linear_model import LinearRegression\n",
    "regressor=LinearRegression()\n",
    "regressor.fit(x_train,y_train)"
   ]
  },
  {
   "cell_type": "markdown",
   "id": "490205fd-d060-45d7-a07c-6e52fa6e6e9d",
   "metadata": {},
   "source": [
    "### Predicting the Test set results"
   ]
  },
  {
   "cell_type": "code",
   "execution_count": 22,
   "id": "a0ce7a38-9968-4a99-afa4-b0d30533e132",
   "metadata": {},
   "outputs": [
    {
     "data": {
      "text/plain": [
       "array([17.04289179, 33.51695377, 74.21757747, 26.73351648, 59.68164043,\n",
       "       39.33132858, 20.91914167, 78.09382734, 69.37226512])"
      ]
     },
     "execution_count": 22,
     "metadata": {},
     "output_type": "execute_result"
    }
   ],
   "source": [
    "y_pred=regressor.predict(x_test)\n",
    "y_pred"
   ]
  },
  {
   "cell_type": "code",
   "execution_count": 24,
   "id": "4eb19c98-50d5-4d73-8eb7-2601c788eed3",
   "metadata": {},
   "outputs": [
    {
     "data": {
      "text/html": [
       "<div>\n",
       "<style scoped>\n",
       "    .dataframe tbody tr th:only-of-type {\n",
       "        vertical-align: middle;\n",
       "    }\n",
       "\n",
       "    .dataframe tbody tr th {\n",
       "        vertical-align: top;\n",
       "    }\n",
       "\n",
       "    .dataframe thead th {\n",
       "        text-align: right;\n",
       "    }\n",
       "</style>\n",
       "<table border=\"1\" class=\"dataframe\">\n",
       "  <thead>\n",
       "    <tr style=\"text-align: right;\">\n",
       "      <th></th>\n",
       "      <th>Actual</th>\n",
       "      <th>predicted</th>\n",
       "    </tr>\n",
       "  </thead>\n",
       "  <tbody>\n",
       "    <tr>\n",
       "      <th>0</th>\n",
       "      <td>20</td>\n",
       "      <td>17.042892</td>\n",
       "    </tr>\n",
       "    <tr>\n",
       "      <th>1</th>\n",
       "      <td>27</td>\n",
       "      <td>33.516954</td>\n",
       "    </tr>\n",
       "    <tr>\n",
       "      <th>2</th>\n",
       "      <td>69</td>\n",
       "      <td>74.217577</td>\n",
       "    </tr>\n",
       "    <tr>\n",
       "      <th>3</th>\n",
       "      <td>30</td>\n",
       "      <td>26.733516</td>\n",
       "    </tr>\n",
       "    <tr>\n",
       "      <th>4</th>\n",
       "      <td>62</td>\n",
       "      <td>59.681640</td>\n",
       "    </tr>\n",
       "    <tr>\n",
       "      <th>5</th>\n",
       "      <td>35</td>\n",
       "      <td>39.331329</td>\n",
       "    </tr>\n",
       "    <tr>\n",
       "      <th>6</th>\n",
       "      <td>24</td>\n",
       "      <td>20.919142</td>\n",
       "    </tr>\n",
       "    <tr>\n",
       "      <th>7</th>\n",
       "      <td>86</td>\n",
       "      <td>78.093827</td>\n",
       "    </tr>\n",
       "    <tr>\n",
       "      <th>8</th>\n",
       "      <td>76</td>\n",
       "      <td>69.372265</td>\n",
       "    </tr>\n",
       "  </tbody>\n",
       "</table>\n",
       "</div>"
      ],
      "text/plain": [
       "   Actual  predicted\n",
       "0      20  17.042892\n",
       "1      27  33.516954\n",
       "2      69  74.217577\n",
       "3      30  26.733516\n",
       "4      62  59.681640\n",
       "5      35  39.331329\n",
       "6      24  20.919142\n",
       "7      86  78.093827\n",
       "8      76  69.372265"
      ]
     },
     "execution_count": 24,
     "metadata": {},
     "output_type": "execute_result"
    }
   ],
   "source": [
    "# comparison between actual and predicted Score\n",
    "df1=pd.DataFrame({'Actual': y_test, 'predicted':y_pred})\n",
    "df1"
   ]
  },
  {
   "cell_type": "markdown",
   "id": "cf5feac6-24d5-4d2c-b92a-e07f03bdf905",
   "metadata": {},
   "source": [
    "### Visualizing the Training set results"
   ]
  },
  {
   "cell_type": "code",
   "execution_count": 25,
   "id": "a8b10327-763c-463c-bbe0-c8d0f0d3fb27",
   "metadata": {},
   "outputs": [
    {
     "data": {
      "image/png": "[encoded data removed]",
      "text/plain": [
       "<Figure size 432x288 with 1 Axes>"
      ]
     },
     "metadata": {
      "needs_background": "light"
     },
     "output_type": "display_data"
    }
   ],
   "source": [
    "plt.scatter(x_train,y_train,color='blue')\n",
    "plt.plot(x_train,regressor.predict(x_train),color='red')\n",
    "plt.title(\"Training dataset\")\n",
    "plt.xlabel(\"Study Hours\")\n",
    "plt.ylabel(\"percentage scored\")\n",
    "plt.show()"
   ]
  },
  {
   "cell_type": "markdown",
   "id": "67b11366-3dae-4f5a-a6e3-2d0adfc3d7dc",
   "metadata": {},
   "source": [
    "### Visualizing the Test set results"
   ]
  },
  {
   "cell_type": "code",
   "execution_count": 26,
   "id": "63c9d8e4-b18f-4cdb-9457-75904e1a78b5",
   "metadata": {},
   "outputs": [
    {
     "data": {
      "image/png": "[encoded data removed]",
      "text/plain": [
       "<Figure size 432x288 with 1 Axes>"
      ]
     },
     "metadata": {
      "needs_background": "light"
     },
     "output_type": "display_data"
    }
   ],
   "source": [
    "plt.scatter(x_test,y_test,color='blue')\n",
    "plt.plot(x_train,regressor.predict(x_train),color='red')\n",
    "plt.title(\"Testing dataset\")\n",
    "plt.xlabel(\"Study Hours\")\n",
    "plt.ylabel(\"percentage scored\")\n",
    "plt.show()"
   ]
  },
  {
   "cell_type": "code",
   "execution_count": 27,
   "id": "6587f76f-f8d2-4a4c-88cd-7e4367bcffd5",
   "metadata": {},
   "outputs": [
    {
     "data": {
      "image/png": "[encoded data removed]",
      "text/plain": [
       "<Figure size 720x360 with 2 Axes>"
      ]
     },
     "metadata": {
      "needs_background": "light"
     },
     "output_type": "display_data"
    }
   ],
   "source": [
    "# checking for the correlations\n",
    "plt.figure(figsize=(10,5))\n",
    "sns.heatmap(df.corr(),annot=True,cmap=\"YlOrBr\",annot_kws={'fontsize':12})\n",
    "plt.xticks(fontsize=12)\n",
    "plt.yticks(fontsize=12)\n",
    "plt.show()"
   ]
  },
  {
   "cell_type": "markdown",
   "id": "4597808c-3d32-4888-9f4e-672f77a5b70b",
   "metadata": {},
   "source": [
    "### Visualizing the Comparison between actual and predicted scores"
   ]
  },
  {
   "cell_type": "code",
   "execution_count": 32,
   "id": "1f725484-3dbd-4708-b11b-27c9543baed5",
   "metadata": {},
   "outputs": [
    {
     "data": {
      "text/plain": [
       "Text(0, 0.5, 'Predicted Score')"
      ]
     },
     "execution_count": 32,
     "metadata": {},
     "output_type": "execute_result"
    },
    {
     "data": {
      "image/png": "[encoded data removed]",
      "text/plain": [
       "<Figure size 432x288 with 1 Axes>"
      ]
     },
     "metadata": {
      "needs_background": "light"
     },
     "output_type": "display_data"
    }
   ],
   "source": [
    "plt.scatter(y_test,y_pred,c='r')\n",
    "plt.plot(y_test,y_pred,c='b')\n",
    "plt.title(\"Score Vs Predicted Score\")\n",
    "plt.xlabel(\"Score\")\n",
    "plt.ylabel(\"Predicted Score\")"
   ]
  },
  {
   "cell_type": "markdown",
   "id": "82179329-6df6-4b40-b905-6f03751ce672",
   "metadata": {},
   "source": [
    "### What will be predicted score if a student studies for 9.25 hrs/day?"
   ]
  },
  {
   "cell_type": "markdown",
   "id": "055bc73d-dcce-4221-8a9a-36bcf82302da",
   "metadata": {},
   "source": [
    "### prediction through our model"
   ]
  },
  {
   "cell_type": "code",
   "execution_count": 33,
   "id": "93c9cd37-6484-451a-94f1-7958a9c3a3b2",
   "metadata": {},
   "outputs": [
    {
     "name": "stdout",
     "output_type": "stream",
     "text": [
      "No of Hours: [[9.25]]\n",
      "predicted Score: 92.14523314523314\n"
     ]
    }
   ],
   "source": [
    "Hours=np.array([[9.25]])\n",
    "predict=regressor.predict(Hours)\n",
    "print(\"No of Hours:\",format(Hours))\n",
    "print(\"predicted Score:\",format(predict[0]))"
   ]
  },
  {
   "cell_type": "markdown",
   "id": "9fe8122f-7631-42c1-95b8-e067570a140f",
   "metadata": {},
   "source": [
    "### Checking accuracy of our model"
   ]
  },
  {
   "cell_type": "code",
   "execution_count": 34,
   "id": "ab586774-94c5-4674-89f0-d0c92fcc7da8",
   "metadata": {},
   "outputs": [
    {
     "name": "stdout",
     "output_type": "stream",
     "text": [
      "train: 95.01107277744313\n",
      "test: 95.5570080138813\n"
     ]
    }
   ],
   "source": [
    "print(\"train:\",regressor.score(x_train,y_train)*100)\n",
    "print(\"test:\",regressor.score(x_test,y_test)*100)"
   ]
  },
  {
   "cell_type": "markdown",
   "id": "cd55cf00-8fcf-49db-a337-c5e914e76a78",
   "metadata": {},
   "source": [
    "## Finding mean absolute error, r^2 score error and mean squared error"
   ]
  },
  {
   "cell_type": "code",
   "execution_count": 36,
   "id": "609f6de3-4704-418b-a0ed-65c8480d20c2",
   "metadata": {},
   "outputs": [
    {
     "name": "stdout",
     "output_type": "stream",
     "text": [
      "Mean absolute error: 4.691397441397438\n",
      "r^2 score error: 0.955570080138813\n",
      "Mean square error: 25.463280738222547\n"
     ]
    }
   ],
   "source": [
    "from sklearn import metrics\n",
    "from sklearn.metrics import r2_score\n",
    "from sklearn.metrics import mean_squared_error\n",
    "\n",
    "print(\"Mean absolute error:\",metrics.mean_absolute_error(y_test,regressor.predict(x_test)))\n",
    "print(\"r^2 score error:\",r2_score(y_test,regressor.predict(x_test)))\n",
    "print(\"Mean square error:\",mean_squared_error(y_test,regressor.predict(x_test)))"
   ]
  },
  {
   "cell_type": "markdown",
   "id": "fe378e0e-55ad-4530-bf99-79e823d93ae4",
   "metadata": {},
   "source": [
    "## Mean absolute error: 4.69137441397438 which is quite accurate model for predicting the result"
   ]
  }
 ],
 "metadata": {
  "kernelspec": {
   "display_name": "Python 3",
   "language": "python",
   "name": "python3"
  },
  "language_info": {
   "codemirror_mode": {
    "name": "ipython",
    "version": 3
   },
   "file_extension": ".py",
   "mimetype": "text/x-python",
   "name": "python",
   "nbconvert_exporter": "python",
   "pygments_lexer": "ipython3",
   "version": "3.8.8"
  }
 },
 "nbformat": 4,
 "nbformat_minor": 5
}
